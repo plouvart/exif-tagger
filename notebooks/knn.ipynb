{
 "cells": [
  {
   "cell_type": "code",
   "execution_count": 1,
   "metadata": {},
   "outputs": [],
   "source": [
    "from exif_tagger.database import FaceDatabase,UNKNOWN_PERSON,Face,Person,Picture\n",
    "from exif_tagger.face_recognition import FaceRecognitionModel\n",
    "from pathlib import Path\n",
    "import numpy as np\n",
    "from sklearn.decomposition import PCA\n",
    "import matplotlib.pyplot as plt\n",
    "import PIL.Image"
   ]
  },
  {
   "cell_type": "code",
   "execution_count": 2,
   "metadata": {},
   "outputs": [
    {
     "name": "stdout",
     "output_type": "stream",
     "text": [
      "Running on device: cpu\n"
     ]
    }
   ],
   "source": [
    "DEFAULT_DB_PATH = Path(\"/home/pierre/repositories/exif-tagger/db/face-database.sqlite\")\n",
    "DEFAULT_UNKNOWN_EMBEDDING_PATH = Path(\n",
    "    \"/home/pierre/repositories/exif-tagger/res/embeddings_vg2.npy\"\n",
    ")\n",
    "DEFAULT_FACE_RECOGNITION_PATH = Path(\n",
    "    \"/home/pierre/repositories/exif-tagger/models/face-recognition.joblib\"\n",
    ")\n",
    "\n",
    "db = FaceDatabase(DEFAULT_DB_PATH)\n",
    "fc = FaceRecognitionModel.from_file(model_filename=DEFAULT_FACE_RECOGNITION_PATH)"
   ]
  },
  {
   "cell_type": "code",
   "execution_count": 3,
   "metadata": {},
   "outputs": [
    {
     "name": "stdout",
     "output_type": "stream",
     "text": [
      "Detecting faces...\n",
      "Detect boxes proba: [0.9999918937683105]\n",
      "Extracting faces...\n",
      "Generating embeddings...\n",
      "1 torch.Size([3, 160, 160])\n",
      "torch.Size([1, 3, 160, 160])\n",
      "tensor([[[-0.3242, -0.3008, -0.2852,  ..., -0.1680, -0.1055, -0.0820],\n",
      "         [-0.2773, -0.2461, -0.2930,  ..., -0.1602, -0.1289, -0.1445],\n",
      "         [-0.1367, -0.2148, -0.2930,  ..., -0.1836, -0.1289, -0.2070],\n",
      "         ...,\n",
      "         [ 0.7305,  0.6133,  0.5820,  ..., -0.8086, -0.8867, -0.8789],\n",
      "         [ 0.6992,  0.6289,  0.5820,  ..., -0.4336, -0.3633, -0.4727],\n",
      "         [ 0.6992,  0.6445,  0.6133,  ..., -0.3320, -0.4180, -0.4570]],\n",
      "\n",
      "        [[-0.5742, -0.5508, -0.5430,  ..., -0.3945, -0.3477, -0.3242],\n",
      "         [-0.5273, -0.4961, -0.5430,  ..., -0.3945, -0.3711, -0.3867],\n",
      "         [-0.3867, -0.4648, -0.5430,  ..., -0.4180, -0.3711, -0.4492],\n",
      "         ...,\n",
      "         [ 0.3945,  0.2617,  0.1992,  ..., -0.8086, -0.8867, -0.8789],\n",
      "         [ 0.3711,  0.2695,  0.2070,  ..., -0.4336, -0.3711, -0.4727],\n",
      "         [ 0.3555,  0.2773,  0.2148,  ..., -0.3398, -0.4102, -0.4492]],\n",
      "\n",
      "        [[-0.7148, -0.6758, -0.6523,  ..., -0.5586, -0.5039, -0.4805],\n",
      "         [-0.6523, -0.6133, -0.6602,  ..., -0.5508, -0.5273, -0.5430],\n",
      "         [-0.5039, -0.5820, -0.6602,  ..., -0.5742, -0.5273, -0.6055],\n",
      "         ...,\n",
      "         [ 0.2539,  0.1133,  0.0508,  ..., -0.8789, -0.9258, -0.9180],\n",
      "         [ 0.2148,  0.1133,  0.0430,  ..., -0.6445, -0.5352, -0.5977],\n",
      "         [ 0.2070,  0.1211,  0.0586,  ..., -0.6289, -0.6680, -0.6445]]])\n"
     ]
    },
    {
     "data": {
      "text/plain": [
       "[Face(person_id=1, picture_id=1, confirmed=False, bbox=[771, 589, 1256, 1225], embedding=array([-1.42054381e-02, -3.79921310e-02,  4.08132710e-02,  3.02348509e-02,\n",
       "        -4.36484441e-02, -4.09115218e-02, -1.12212971e-02, -4.21509445e-02,\n",
       "         4.30460423e-02, -8.99925157e-02,  4.24391066e-04,  1.65135488e-02,\n",
       "        -4.62289304e-02,  1.65125243e-02, -3.16373520e-02,  6.17406927e-02,\n",
       "         3.74987200e-02,  1.86104812e-02,  3.11255828e-02,  7.17059802e-03,\n",
       "         5.35850488e-02, -7.88270682e-02,  3.31777856e-02, -3.01834885e-02,\n",
       "        -3.56592201e-02, -3.86767238e-02,  4.19465490e-02,  4.55231033e-02,\n",
       "        -3.20095243e-03,  6.84620515e-02,  6.43053576e-02, -6.62508532e-02,\n",
       "        -2.18569078e-02, -1.74887211e-03,  8.85051861e-03,  1.89253781e-02,\n",
       "         1.24245288e-03,  3.88499512e-03, -1.47541836e-02,  4.51374166e-02,\n",
       "         2.43383124e-02, -2.67278720e-02,  4.23564501e-02,  2.19335034e-02,\n",
       "         2.23069098e-02, -5.44971526e-02, -3.54916044e-02, -9.26223770e-03,\n",
       "        -1.69302970e-02,  2.86414661e-02,  2.21824124e-02,  6.92516491e-02,\n",
       "        -1.85851920e-02,  1.56136723e-02, -3.86382677e-02, -5.73565662e-02,\n",
       "         2.24258918e-02,  2.01962553e-02,  4.45301980e-02,  8.21531937e-02,\n",
       "         3.33427871e-03, -1.04142250e-02,  7.06545636e-02,  7.34840333e-02,\n",
       "         2.51192860e-02,  1.13351204e-01,  3.06419078e-02, -2.23518331e-02,\n",
       "        -1.49284005e-02, -6.50722757e-02, -2.85155289e-02, -1.56941861e-02,\n",
       "         1.18848674e-01, -1.51700377e-02, -8.08035806e-02,  2.27448717e-02,\n",
       "         3.24521437e-02, -3.91336568e-02, -1.14284158e-02,  5.97903244e-02,\n",
       "        -1.08233858e-02, -6.73323423e-02,  2.03724578e-02,  7.04313591e-02,\n",
       "         7.43521899e-02, -6.59607071e-03, -9.70708858e-03,  6.76761940e-02,\n",
       "         1.35496892e-02,  4.04639095e-02,  2.16496810e-02, -4.11734264e-03,\n",
       "        -9.11985524e-03, -2.69765779e-02, -3.21557596e-02, -2.56577022e-02,\n",
       "        -1.06889885e-02,  3.91819626e-02,  3.35917287e-02, -2.21226774e-02,\n",
       "         5.68171255e-02, -5.58576062e-02, -5.69193289e-02,  8.13921019e-02,\n",
       "         4.31763865e-02,  5.19591533e-02,  8.80968720e-02,  1.14624044e-02,\n",
       "         5.95943816e-02,  1.99249145e-02, -2.40549315e-02,  3.96038368e-02,\n",
       "         2.23383680e-03,  6.79385802e-03, -9.80558898e-03, -8.77750814e-02,\n",
       "        -1.08953297e-01, -6.03983961e-02,  4.13597338e-02,  2.49299128e-02,\n",
       "         1.59765966e-02, -1.11040371e-02, -4.35826406e-02,  2.03897711e-03,\n",
       "        -3.79820392e-02, -5.43527380e-02, -5.05964719e-02,  5.28899543e-02,\n",
       "         2.62691779e-03,  5.20035662e-02, -4.25543003e-02,  1.81035213e-02,\n",
       "         4.10402678e-02,  5.73450048e-03,  4.32788860e-03,  6.11156970e-02,\n",
       "        -4.70958501e-02, -4.31249775e-02, -1.42513565e-03,  1.74824446e-02,\n",
       "         6.77878559e-02,  1.61237698e-02,  1.22755645e-02,  6.83267042e-02,\n",
       "        -5.04813343e-02, -8.67846906e-02,  7.11799017e-04,  4.28776704e-02,\n",
       "        -9.54923686e-03,  6.09831326e-02,  1.93171259e-02,  5.06868921e-02,\n",
       "         4.81467247e-02,  6.24074740e-03, -4.53306399e-02, -1.34037361e-02,\n",
       "        -9.43128206e-03, -3.87971066e-02, -4.84818816e-02, -8.76608610e-05,\n",
       "         8.36369991e-02, -3.01852124e-04,  1.74110513e-02,  4.83407043e-02,\n",
       "         5.24526685e-02,  5.10796420e-02, -3.63503806e-02, -2.52215322e-02,\n",
       "         1.55298552e-02, -5.89234196e-02, -1.63120888e-02, -2.81952079e-02,\n",
       "        -1.68824829e-02, -1.30254952e-02, -1.60536617e-02, -4.98191826e-02,\n",
       "        -1.67536959e-02, -7.61304721e-02,  4.67983559e-02, -5.43149635e-02,\n",
       "        -8.31506252e-02,  3.72636393e-02, -1.38673652e-02, -4.29736637e-02,\n",
       "        -1.21287547e-01, -7.79164070e-03, -5.34617379e-02,  6.04447257e-03,\n",
       "        -4.28974293e-02, -3.52577597e-04, -7.96909351e-03,  5.86702302e-03,\n",
       "        -3.59148569e-02, -2.18350627e-03,  1.36461586e-03, -9.06726439e-03,\n",
       "         2.07101442e-02,  6.43299520e-02,  3.44105088e-03,  1.74615048e-02,\n",
       "         2.53894774e-04,  2.71304082e-02, -4.50301990e-02,  1.25082865e-04,\n",
       "         2.79086381e-02,  3.41967656e-03,  9.40345507e-03,  2.90244203e-02,\n",
       "        -3.84035707e-02, -1.26474788e-02, -2.02452322e-03,  5.79977259e-02,\n",
       "         6.29571229e-02,  6.01963745e-03, -5.80738001e-02, -7.72863477e-02,\n",
       "        -4.02381830e-02,  8.16611797e-02,  2.65049953e-02,  9.80468094e-02,\n",
       "        -2.40877774e-02, -7.28610009e-02,  1.39234774e-02, -5.90635911e-02,\n",
       "        -2.16641743e-03,  1.51261305e-02,  2.53232922e-02, -7.01759681e-02,\n",
       "        -1.00407869e-01, -3.82565819e-02,  1.06649414e-01, -3.55322356e-03,\n",
       "        -6.77835383e-03,  2.13069674e-02,  1.91036351e-02, -4.22371477e-02,\n",
       "         6.70390651e-02,  4.29189615e-02, -1.12352811e-01, -2.88194567e-02,\n",
       "         5.01020364e-02, -1.92397274e-02,  9.36784819e-02,  5.90247326e-02,\n",
       "        -3.60835008e-02,  5.76235205e-02, -6.97891135e-03,  1.26379058e-01,\n",
       "        -6.80236667e-02, -5.89643754e-02, -4.30296622e-02, -5.30376844e-02,\n",
       "         3.69047299e-02,  2.20928639e-02, -6.84370473e-02,  1.52683938e-02,\n",
       "        -4.20249030e-02, -3.26899327e-02,  8.24430957e-02,  3.35143171e-02,\n",
       "         2.91718300e-02, -3.79316397e-02, -1.29142922e-04,  3.64927799e-02,\n",
       "         4.57373261e-02,  9.65312123e-02, -3.13495286e-02,  2.65151751e-03,\n",
       "        -1.78794153e-02,  1.08805252e-02,  2.23644786e-02, -4.42026258e-02,\n",
       "         4.23027799e-02,  1.67043228e-02,  3.88974547e-02, -5.93672681e-04,\n",
       "        -1.93101773e-03,  2.08734372e-03, -4.66870107e-02, -3.15541737e-02,\n",
       "        -5.23791760e-02, -5.50942533e-02,  4.89789359e-02, -6.13834069e-04,\n",
       "        -3.70899290e-02, -9.36051011e-02, -4.29134183e-02,  3.80941443e-02,\n",
       "         8.89935195e-02,  3.99621055e-02,  6.56577349e-02, -3.17931771e-02,\n",
       "        -4.88668270e-02, -7.80051351e-02,  6.46429486e-04,  3.99216413e-02,\n",
       "        -1.48099111e-02, -2.12369417e-03,  1.90795194e-02,  1.16314106e-02,\n",
       "        -2.65755691e-04, -2.63564428e-03,  2.07561031e-02, -3.75707150e-02,\n",
       "         2.02652626e-02,  4.64123897e-02,  4.23658127e-03,  4.28662822e-02,\n",
       "         6.75745532e-02, -3.76212709e-02,  2.27641575e-02,  1.53788505e-02,\n",
       "        -8.02231114e-03, -5.39926477e-02, -1.46337990e-02,  1.53856538e-02,\n",
       "        -3.17309126e-02,  1.04468258e-03,  1.97819192e-02, -9.88013111e-03,\n",
       "        -4.62245420e-02, -6.91606849e-02,  3.25186811e-02,  4.63587902e-02,\n",
       "        -1.53543241e-02,  1.56342294e-02,  3.78708839e-02,  4.52931188e-02,\n",
       "         4.13664840e-02,  6.72033355e-02,  3.57349664e-02, -2.35111434e-02,\n",
       "        -9.47154537e-02,  1.88673532e-03,  5.98320328e-02,  1.10091725e-02,\n",
       "         2.72640213e-02,  2.10978314e-02, -1.39626507e-02, -3.00702788e-02,\n",
       "        -1.66296251e-02, -5.72252125e-02, -3.20623396e-03, -8.04920774e-03,\n",
       "        -6.84788823e-02,  8.86679685e-04,  1.62320174e-02, -2.38352232e-02,\n",
       "        -1.01214685e-02,  1.44308237e-02,  2.05787960e-02, -4.15065549e-02,\n",
       "         1.15509890e-01, -5.75999403e-03, -2.21548323e-02, -3.71600548e-03,\n",
       "        -3.18008438e-02,  9.39733759e-02, -1.77808385e-02,  1.59793124e-02,\n",
       "        -6.00610711e-02,  7.54588693e-02, -1.17759435e-02, -5.36200032e-02,\n",
       "         5.94558939e-02, -1.51933087e-02, -2.07723770e-02, -2.71586571e-02,\n",
       "        -3.33346985e-02, -9.76030622e-03, -3.29468176e-02,  1.71368755e-03,\n",
       "        -1.32804308e-02,  1.33250833e-01,  3.46121155e-02,  2.86212750e-02,\n",
       "         7.22893625e-02,  2.22580191e-02, -1.69536297e-03,  9.78357345e-02,\n",
       "         1.21832509e-02,  7.94859156e-02, -4.03591394e-02, -1.53728742e-02,\n",
       "         9.95086599e-03,  3.86015326e-02,  5.84155917e-02,  1.41461482e-02,\n",
       "        -3.40756066e-02,  1.59923540e-04,  2.04077642e-02, -1.73898065e-03,\n",
       "        -4.40462939e-02,  1.12634068e-02,  5.72805181e-02, -3.39702554e-02,\n",
       "        -4.87438738e-02,  4.40992154e-02, -4.45338003e-02, -7.60354698e-02,\n",
       "         9.33808163e-02, -8.61973837e-02, -3.60907079e-03, -1.63928270e-02,\n",
       "        -3.66891809e-02,  1.16636809e-02,  2.93276422e-02, -7.12388754e-02,\n",
       "        -2.06560846e-02, -5.52431447e-03, -5.44959167e-03, -4.06871410e-03,\n",
       "         1.68411024e-02,  4.69392948e-02,  3.95691907e-03, -4.28944528e-02,\n",
       "        -3.50984335e-02,  6.01421110e-03, -5.41637614e-02,  4.23335657e-02,\n",
       "         3.74937989e-02,  6.19250163e-02,  5.17867878e-02, -2.29290687e-02,\n",
       "        -5.14260214e-03,  3.99071239e-02, -3.92661244e-02,  6.37587681e-02,\n",
       "         5.75514175e-02, -3.97240324e-03, -6.47326484e-02, -8.66309099e-04,\n",
       "         6.58001825e-02,  2.24950705e-02, -5.13091944e-02,  3.20018232e-02,\n",
       "         3.20892246e-03,  7.29612336e-02, -2.76298597e-02,  2.67248731e-02,\n",
       "        -2.01153122e-02,  1.25428336e-02,  4.10053656e-02,  1.76142920e-02,\n",
       "         8.17875750e-03,  4.22100872e-02,  2.84869298e-02, -4.54899296e-02,\n",
       "         9.28009208e-03,  6.96272925e-02, -2.11357400e-02, -1.60377566e-02,\n",
       "         4.16760799e-03,  2.90284939e-02, -4.06235754e-02,  1.10158697e-02,\n",
       "        -3.42830941e-02,  7.33941502e-04,  2.12406483e-03,  4.53647524e-02,\n",
       "         1.54368905e-02, -6.23596497e-02,  2.79272301e-03, -1.54161574e-02,\n",
       "        -4.73108469e-03, -3.49295996e-02,  2.36058654e-03, -3.92309502e-02,\n",
       "         7.17500644e-03,  5.39256856e-02,  3.68126594e-02,  4.55102324e-02,\n",
       "         5.31906448e-02, -5.50918505e-02, -1.21417399e-02,  3.87913585e-02,\n",
       "         4.98871505e-03,  3.01751494e-03,  1.59748457e-02, -8.77405331e-03,\n",
       "        -5.19943237e-03, -4.82981354e-02,  2.98741329e-02,  8.86029899e-02,\n",
       "        -3.44953127e-02,  1.09201729e-01, -2.47228947e-02,  5.00002429e-02,\n",
       "        -8.10725521e-03, -4.61989492e-02, -7.32939504e-03,  4.06434648e-02,\n",
       "        -4.94057089e-02,  3.17365192e-02,  5.94185330e-02,  7.20722228e-02,\n",
       "        -1.06187463e-02,  5.33871586e-03,  4.51869890e-02, -4.03554924e-03,\n",
       "        -5.85746616e-02,  2.62525994e-02, -9.73941609e-02,  8.26519132e-02,\n",
       "        -3.30432691e-02,  8.77446868e-03,  7.89095312e-02, -2.47068480e-02,\n",
       "        -7.01131299e-02,  5.07634282e-02,  7.47571811e-02, -3.99306044e-02],\n",
       "       dtype=float32), id=None)]"
      ]
     },
     "execution_count": 3,
     "metadata": {},
     "output_type": "execute_result"
    }
   ],
   "source": [
    "\n",
    "fc.detect_faces(PIL.Image.open(\"/home/pierre/repositories/exif-tagger/test/test_big/PXL_20231109_034149044.jpg\"))"
   ]
  },
  {
   "cell_type": "code",
   "execution_count": null,
   "metadata": {},
   "outputs": [],
   "source": [
    "from exif_tagger.embeddings import generate_embeddings\n",
    "embs,names = generate_embeddings(\"/home/pierre/Downloads/VGG-Face2/data/vggface2_test/small_test\")"
   ]
  },
  {
   "cell_type": "code",
   "execution_count": null,
   "metadata": {},
   "outputs": [],
   "source": [
    "unknown_embeddings = np.load(DEFAULT_UNKNOWN_EMBEDDING_PATH)\n",
    "unknown_embeddings_train = unknown_embeddings[:len(unknown_embeddings)//2]\n",
    "unknown_embeddings_test = unknown_embeddings[len(unknown_embeddings)//2:]\n",
    "unknown_embeddings.shape"
   ]
  },
  {
   "cell_type": "code",
   "execution_count": null,
   "metadata": {},
   "outputs": [],
   "source": [
    "db.getPersons()"
   ]
  },
  {
   "cell_type": "code",
   "execution_count": null,
   "metadata": {},
   "outputs": [],
   "source": [
    "pierre = db.getPersonsByNameSurname(\"Pierre\", \"Louvart\")[0]\n",
    "pierre_embeddings = np.array(db.getEmbeddingsForPerson(pierre.id))\n",
    "pierre_embeddings.shape\n",
    "pierre_embeddings_train = pierre_embeddings[::2]\n",
    "pierre_embeddings_test = pierre_embeddings[1::2]\n",
    "pierre_embeddings.shape"
   ]
  },
  {
   "cell_type": "code",
   "execution_count": null,
   "metadata": {},
   "outputs": [],
   "source": [
    "kerian = db.getPersonsByNameSurname(\"Kerian\", \"Tiennot\")[0]\n",
    "kerian_embeddings = np.array(db.getEmbeddingsForPerson(kerian.id))\n",
    "kerian_embeddings.shape\n",
    "kerian_embeddings_train = kerian_embeddings[::2]\n",
    "kerian_embeddings_test = kerian_embeddings[1::2]\n",
    "kerian_embeddings.shape"
   ]
  },
  {
   "cell_type": "code",
   "execution_count": null,
   "metadata": {},
   "outputs": [],
   "source": [
    "people_embeddings = np.array(db.getEmbeddingsForPerson(UNKNOWN_PERSON.id))\n",
    "people_embeddings.shape"
   ]
  },
  {
   "cell_type": "code",
   "execution_count": null,
   "metadata": {},
   "outputs": [],
   "source": [
    "from sklearn.neighbors import KNeighborsClassifier\n",
    "\n",
    "model = KNeighborsClassifier()\n",
    "\n",
    "X = np.concatenate([unknown_embeddings_train, kerian_embeddings_train])\n",
    "Y = np.concatenate([np.zeros(len(unknown_embeddings_train)), 1*np.ones(len(kerian_embeddings_train))])\n",
    "# X = np.concatenate([unknown_embeddings_train, pierre_embeddings_train, kerian_embeddings_train])\n",
    "# Y = np.concatenate([np.zeros(len(unknown_embeddings_train)), np.ones(len(pierre_embeddings_train)), 2*np.ones(len(kerian_embeddings_train))])\n",
    "\n",
    "\n",
    "model.fit(X, Y)\n",
    "model"
   ]
  },
  {
   "cell_type": "code",
   "execution_count": null,
   "metadata": {},
   "outputs": [],
   "source": [
    "np.mean(\n",
    "    model.predict(X[::50]) == Y[::50]\n",
    ")"
   ]
  },
  {
   "cell_type": "code",
   "execution_count": null,
   "metadata": {},
   "outputs": [],
   "source": [
    "model.predict(pierre_embeddings_test)"
   ]
  },
  {
   "cell_type": "code",
   "execution_count": null,
   "metadata": {},
   "outputs": [],
   "source": [
    "model.predict(pierre_embeddings_train)"
   ]
  },
  {
   "cell_type": "code",
   "execution_count": null,
   "metadata": {},
   "outputs": [],
   "source": [
    "model.predict(kerian_embeddings_test)"
   ]
  },
  {
   "cell_type": "code",
   "execution_count": null,
   "metadata": {},
   "outputs": [],
   "source": [
    "model.predict(unknown_embeddings_train[::100])"
   ]
  },
  {
   "cell_type": "code",
   "execution_count": null,
   "metadata": {},
   "outputs": [],
   "source": [
    "X = np.concatenate([kerian_embeddings, embs, pierre_embeddings[:20]])\n",
    "print(pierre_embeddings.shape)\n",
    "print(embs.shape)\n",
    "print(kerian_embeddings.shape)\n",
    "plt.figure(figsize=(16, 8))\n",
    "plt.imshow(X)"
   ]
  },
  {
   "cell_type": "code",
   "execution_count": null,
   "metadata": {},
   "outputs": [],
   "source": [
    "X = np.concatenate([embs, unknown_embeddings[::100]])\n",
    "print(pierre_embeddings.shape)\n",
    "print(embs.shape)\n",
    "print(kerian_embeddings.shape)\n",
    "plt.figure(figsize=(16, 8))\n",
    "plt.imshow(X)"
   ]
  },
  {
   "cell_type": "code",
   "execution_count": null,
   "metadata": {},
   "outputs": [],
   "source": [
    "unknown_embeddings.shape,  embs.shape"
   ]
  },
  {
   "cell_type": "code",
   "execution_count": null,
   "metadata": {},
   "outputs": [],
   "source": [
    "np.cov(X)/"
   ]
  },
  {
   "cell_type": "code",
   "execution_count": null,
   "metadata": {},
   "outputs": [],
   "source": [
    "import ipywidgets as widgets\n",
    "from IPython.display import display\n",
    "from exif_tagger.database import FaceDatabase,UNKNOWN_PERSON,Face,Person,Picture\n",
    "import PIL.Image\n",
    "import io\n",
    "\n",
    "\n",
    "imgs = db.getImagesForPerson(pierre.id)\n",
    "widget_imgs = []\n",
    "for img in imgs:\n",
    "    bin = io.BytesIO()\n",
    "    img.save(bin, format='JPEG')\n",
    "    widget_imgs.append(widgets.Image(value=bin.getvalue()))\n",
    "\n",
    "\n",
    "\n",
    "widgets.GridBox(\n",
    "    children = widget_imgs,\n",
    "    layout=widgets.Layout(\n",
    "        grid_template_columns='256px ' * 5,\n",
    "    )\n",
    ")"
   ]
  },
  {
   "cell_type": "code",
   "execution_count": null,
   "metadata": {},
   "outputs": [],
   "source": [
    "imgs = db.getImagesForPerson(UNKNOWN_PERSON.id)\n",
    "imgs"
   ]
  },
  {
   "cell_type": "code",
   "execution_count": null,
   "metadata": {},
   "outputs": [],
   "source": [
    "t = PIL.Image.fromarray(np.array(imgs[0]).astype(np.uint8).transpose(1,2,0))\n",
    "t"
   ]
  },
  {
   "cell_type": "code",
   "execution_count": null,
   "metadata": {},
   "outputs": [],
   "source": [
    "\n",
    "\n",
    "model = PCA(n_components=2)\n",
    "model = model.fit(X)\n",
    "\n",
    "plt.scatter(*model.transform(unknown_embeddings).T, color=\"b\")\n",
    "plt.scatter(*model.transform(pierre_embeddings_test).T, color=\"r\")\n",
    "plt.scatter(*model.transform(pierre_embeddings_train).T, color=\"g\")\n",
    "plt.scatter(*model.transform(people_embeddings).T, color=\"orange\")"
   ]
  },
  {
   "cell_type": "code",
   "execution_count": null,
   "metadata": {},
   "outputs": [],
   "source": []
  }
 ],
 "metadata": {
  "kernelspec": {
   "display_name": ".venv",
   "language": "python",
   "name": "python3"
  },
  "language_info": {
   "codemirror_mode": {
    "name": "ipython",
    "version": 3
   },
   "file_extension": ".py",
   "mimetype": "text/x-python",
   "name": "python",
   "nbconvert_exporter": "python",
   "pygments_lexer": "ipython3",
   "version": "3.10.13"
  }
 },
 "nbformat": 4,
 "nbformat_minor": 2
}
