{
 "cells": [
  {
   "cell_type": "code",
   "execution_count": 1,
   "metadata": {},
   "outputs": [],
   "source": [
    "from exif_tagger.database import FaceDatabase,UNKNOWN_PERSON,Face,Person,Picture\n",
    "from exif_tagger.face_recognition import FaceRecognitionModel\n",
    "from pathlib import Path\n",
    "import numpy as np\n",
    "from sklearn.decomposition import PCA\n",
    "import matplotlib.pyplot as plt\n"
   ]
  },
  {
   "cell_type": "code",
   "execution_count": 2,
   "metadata": {},
   "outputs": [
    {
     "name": "stdout",
     "output_type": "stream",
     "text": [
      "Running on device: cpu\n"
     ]
    }
   ],
   "source": [
    "DEFAULT_DB_PATH = Path(\"/home/pierre/repositories/exif-tagger/db/face-database.sqlite\")\n",
    "DEFAULT_UNKNOWN_EMBEDDING_PATH = Path(\n",
    "    \"/home/pierre/repositories/exif-tagger/res/embeddings_vg2.npy\"\n",
    ")\n",
    "DEFAULT_FACE_RECOGNITION_PATH = Path(\n",
    "    \"/home/pierre/repositories/exif-tagger/models/face-recognition.joblib\"\n",
    ")\n",
    "\n",
    "db = FaceDatabase(DEFAULT_DB_PATH)\n",
    "fc = FaceRecognitionModel.from_file(model_filename=DEFAULT_FACE_RECOGNITION_PATH)"
   ]
  },
  {
   "cell_type": "code",
   "execution_count": null,
   "metadata": {},
   "outputs": [],
   "source": [
    "\n",
    "fc.detect_faces(\"/home/pierre/repositories/exif-tagger/test/test_big/PXL_20231109_034149044.jpg\")"
   ]
  },
  {
   "cell_type": "code",
   "execution_count": 2,
   "metadata": {},
   "outputs": [
    {
     "name": "stdout",
     "output_type": "stream",
     "text": [
      "Running on device: cpu\n"
     ]
    },
    {
     "name": "stderr",
     "output_type": "stream",
     "text": [
      "  0%|          | 0/11 [00:00<?, ?it/s]"
     ]
    },
    {
     "name": "stdout",
     "output_type": "stream",
     "text": [
      "ALIGNED 100 torch.Size([3, 160, 160])\n",
      "STACKED torch.Size([100, 3, 160, 160])\n",
      "tensor([[[-0.3320, -0.2852, -0.1836,  ...,  0.2695,  0.3008,  0.3164],\n",
      "         [-0.2617, -0.1992, -0.0664,  ...,  0.2852,  0.3164,  0.3320],\n",
      "         [-0.1914, -0.1133,  0.0508,  ...,  0.3008,  0.3398,  0.3555],\n",
      "         ...,\n",
      "         [-0.1680, -0.1445, -0.0977,  ...,  0.3477,  0.2773,  0.2383],\n",
      "         [-0.0273, -0.0039,  0.0273,  ...,  0.3711,  0.3320,  0.3164],\n",
      "         [ 0.1133,  0.1211,  0.1367,  ...,  0.3945,  0.3867,  0.3867]],\n",
      "\n",
      "        [[-0.7070, -0.6445, -0.5273,  ...,  0.1055,  0.1211,  0.1289],\n",
      "         [-0.6367, -0.5586, -0.4023,  ...,  0.1133,  0.1289,  0.1367],\n",
      "         [-0.5664, -0.4648, -0.2695,  ...,  0.1133,  0.1289,  0.1367],\n",
      "         ...,\n",
      "         [-0.7930, -0.7695, -0.7227,  ..., -0.7773, -0.8320, -0.8555],\n",
      "         [-0.6836, -0.6680, -0.6211,  ..., -0.7695, -0.7852, -0.7930],\n",
      "         [-0.5664, -0.5586, -0.5352,  ..., -0.7539, -0.7383, -0.7305]],\n",
      "\n",
      "        [[-0.7227, -0.6523, -0.5195,  ...,  0.9727,  0.9883,  0.9961],\n",
      "         [-0.6445, -0.5586, -0.3945,  ...,  0.9648,  0.9805,  0.9961],\n",
      "         [-0.5664, -0.4570, -0.2617,  ...,  0.9570,  0.9805,  0.9961],\n",
      "         ...,\n",
      "         [-0.5195, -0.4883, -0.4102,  ..., -0.6211, -0.6758, -0.7070],\n",
      "         [-0.3164, -0.2852, -0.2148,  ..., -0.6055, -0.6289, -0.6445],\n",
      "         [-0.1367, -0.1133, -0.0664,  ..., -0.5898, -0.5820, -0.5742]]])\n"
     ]
    }
   ],
   "source": [
    "from exif_tagger.embeddings import generate_embeddings\n",
    "embs,names = generate_embeddings(\"/home/pierre/Downloads/VGG-Face2/data/vggface2_test/small_test\")"
   ]
  },
  {
   "cell_type": "code",
   "execution_count": 3,
   "metadata": {},
   "outputs": [
    {
     "data": {
      "text/plain": [
       "(169218, 512)"
      ]
     },
     "execution_count": 3,
     "metadata": {},
     "output_type": "execute_result"
    }
   ],
   "source": [
    "unknown_embeddings = np.load(DEFAULT_UNKNOWN_EMBEDDING_PATH)\n",
    "unknown_embeddings_train = unknown_embeddings[:len(unknown_embeddings)//2]\n",
    "unknown_embeddings_test = unknown_embeddings[len(unknown_embeddings)//2:]\n",
    "unknown_embeddings.shape"
   ]
  },
  {
   "cell_type": "code",
   "execution_count": 4,
   "metadata": {},
   "outputs": [
    {
     "data": {
      "text/plain": [
       "[Person(name='Unknown', surname='Unknown', id=1),\n",
       " Person(name='Pierre', surname='Louvart', id=2),\n",
       " Person(name='Kerian', surname='Tiennot', id=3)]"
      ]
     },
     "execution_count": 4,
     "metadata": {},
     "output_type": "execute_result"
    }
   ],
   "source": [
    "db.getPersons()"
   ]
  },
  {
   "cell_type": "code",
   "execution_count": 5,
   "metadata": {},
   "outputs": [
    {
     "data": {
      "text/plain": [
       "(79, 512)"
      ]
     },
     "execution_count": 5,
     "metadata": {},
     "output_type": "execute_result"
    }
   ],
   "source": [
    "pierre = db.getPersonsByNameSurname(\"Pierre\", \"Louvart\")[0]\n",
    "pierre_embeddings = np.array(db.getEmbeddingsForPerson(pierre.id))\n",
    "pierre_embeddings.shape\n",
    "pierre_embeddings_train = pierre_embeddings[::2]\n",
    "pierre_embeddings_test = pierre_embeddings[1::2]\n",
    "pierre_embeddings.shape"
   ]
  },
  {
   "cell_type": "code",
   "execution_count": 6,
   "metadata": {},
   "outputs": [
    {
     "data": {
      "text/plain": [
       "(11, 512)"
      ]
     },
     "execution_count": 6,
     "metadata": {},
     "output_type": "execute_result"
    }
   ],
   "source": [
    "kerian = db.getPersonsByNameSurname(\"Kerian\", \"Tiennot\")[0]\n",
    "kerian_embeddings = np.array(db.getEmbeddingsForPerson(kerian.id))\n",
    "kerian_embeddings.shape\n",
    "kerian_embeddings_train = kerian_embeddings[::2]\n",
    "kerian_embeddings_test = kerian_embeddings[1::2]\n",
    "kerian_embeddings.shape"
   ]
  },
  {
   "cell_type": "code",
   "execution_count": null,
   "metadata": {},
   "outputs": [],
   "source": [
    "people_embeddings = np.array(db.getEmbeddingsForPerson(UNKNOWN_PERSON.id))\n",
    "people_embeddings.shape"
   ]
  },
  {
   "cell_type": "code",
   "execution_count": null,
   "metadata": {},
   "outputs": [],
   "source": [
    "from sklearn.neighbors import KNeighborsClassifier\n",
    "\n",
    "model = KNeighborsClassifier()\n",
    "\n",
    "X = np.concatenate([unknown_embeddings_train, kerian_embeddings_train])\n",
    "Y = np.concatenate([np.zeros(len(unknown_embeddings_train)), 1*np.ones(len(kerian_embeddings_train))])\n",
    "# X = np.concatenate([unknown_embeddings_train, pierre_embeddings_train, kerian_embeddings_train])\n",
    "# Y = np.concatenate([np.zeros(len(unknown_embeddings_train)), np.ones(len(pierre_embeddings_train)), 2*np.ones(len(kerian_embeddings_train))])\n",
    "\n",
    "\n",
    "model.fit(X, Y)\n",
    "model"
   ]
  },
  {
   "cell_type": "code",
   "execution_count": null,
   "metadata": {},
   "outputs": [],
   "source": [
    "np.mean(\n",
    "    model.predict(X[::50]) == Y[::50]\n",
    ")"
   ]
  },
  {
   "cell_type": "code",
   "execution_count": null,
   "metadata": {},
   "outputs": [],
   "source": [
    "model.predict(pierre_embeddings_test)"
   ]
  },
  {
   "cell_type": "code",
   "execution_count": null,
   "metadata": {},
   "outputs": [],
   "source": [
    "model.predict(pierre_embeddings_train)"
   ]
  },
  {
   "cell_type": "code",
   "execution_count": null,
   "metadata": {},
   "outputs": [],
   "source": [
    "model.predict(kerian_embeddings_test)"
   ]
  },
  {
   "cell_type": "code",
   "execution_count": null,
   "metadata": {},
   "outputs": [],
   "source": [
    "model.predict(unknown_embeddings_train[::100])"
   ]
  },
  {
   "cell_type": "code",
   "execution_count": null,
   "metadata": {},
   "outputs": [],
   "source": [
    "X = np.concatenate([kerian_embeddings, embs, pierre_embeddings[:20]])\n",
    "print(pierre_embeddings.shape)\n",
    "print(embs.shape)\n",
    "print(kerian_embeddings.shape)\n",
    "plt.figure(figsize=(16, 8))\n",
    "plt.imshow(X)"
   ]
  },
  {
   "cell_type": "code",
   "execution_count": null,
   "metadata": {},
   "outputs": [],
   "source": [
    "X = np.concatenate([embs, unknown_embeddings[::100]])\n",
    "print(pierre_embeddings.shape)\n",
    "print(embs.shape)\n",
    "print(kerian_embeddings.shape)\n",
    "plt.figure(figsize=(16, 8))\n",
    "plt.imshow(X)"
   ]
  },
  {
   "cell_type": "code",
   "execution_count": null,
   "metadata": {},
   "outputs": [],
   "source": [
    "unknown_embeddings.shape,  embs.shape"
   ]
  },
  {
   "cell_type": "code",
   "execution_count": null,
   "metadata": {},
   "outputs": [],
   "source": [
    "np.cov(X)"
   ]
  },
  {
   "cell_type": "code",
   "execution_count": null,
   "metadata": {},
   "outputs": [],
   "source": [
    "import ipywidgets as widgets\n",
    "from IPython.display import display\n",
    "from exif_tagger.database import FaceDatabase,UNKNOWN_PERSON,Face,Person,Picture\n",
    "import PIL.Image\n",
    "import io\n",
    "\n",
    "\n",
    "imgs = db.getImagesForPerson(pierre.id)\n",
    "widget_imgs = []\n",
    "for img in imgs:\n",
    "    bin = io.BytesIO()\n",
    "    img.save(bin, format='JPEG')\n",
    "    widget_imgs.append(widgets.Image(value=bin.getvalue()))\n",
    "\n",
    "\n",
    "\n",
    "widgets.GridBox(\n",
    "    children = widget_imgs,\n",
    "    layout=widgets.Layout(\n",
    "        grid_template_columns='256px ' * 5,\n",
    "    )\n",
    ")"
   ]
  },
  {
   "cell_type": "code",
   "execution_count": null,
   "metadata": {},
   "outputs": [],
   "source": [
    "imgs = db.getImagesForPerson(UNKNOWN_PERSON.id)\n",
    "imgs"
   ]
  },
  {
   "cell_type": "code",
   "execution_count": null,
   "metadata": {},
   "outputs": [],
   "source": [
    "t = PIL.Image.fromarray(np.array(imgs[0]).astype(np.uint8).transpose(1,2,0))\n",
    "t"
   ]
  },
  {
   "cell_type": "code",
   "execution_count": null,
   "metadata": {},
   "outputs": [],
   "source": [
    "\n",
    "\n",
    "model = PCA(n_components=2)\n",
    "model = model.fit(X)\n",
    "\n",
    "plt.scatter(*model.transform(unknown_embeddings).T, color=\"b\")\n",
    "plt.scatter(*model.transform(pierre_embeddings_test).T, color=\"r\")\n",
    "plt.scatter(*model.transform(pierre_embeddings_train).T, color=\"g\")\n",
    "plt.scatter(*model.transform(people_embeddings).T, color=\"orange\")"
   ]
  },
  {
   "cell_type": "code",
   "execution_count": null,
   "metadata": {},
   "outputs": [],
   "source": []
  }
 ],
 "metadata": {
  "kernelspec": {
   "display_name": ".venv",
   "language": "python",
   "name": "python3"
  },
  "language_info": {
   "codemirror_mode": {
    "name": "ipython",
    "version": 3
   },
   "file_extension": ".py",
   "mimetype": "text/x-python",
   "name": "python",
   "nbconvert_exporter": "python",
   "pygments_lexer": "ipython3",
   "version": "3.10.13"
  }
 },
 "nbformat": 4,
 "nbformat_minor": 2
}
